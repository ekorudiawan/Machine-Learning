{
 "cells": [
  {
   "cell_type": "markdown",
   "metadata": {},
   "source": [
    "# Assigment 1"
   ]
  },
  {
   "cell_type": "markdown",
   "metadata": {},
   "source": [
    "a. Implement  a python routine to return the second smallest element from a list"
   ]
  },
  {
   "cell_type": "code",
   "execution_count": 107,
   "metadata": {},
   "outputs": [],
   "source": [
    "def secondSmallestElement(input_list):\n",
    "    input_list.sort()\n",
    "    default_index = 1\n",
    "    print(\"Sorted List\", str(input_list))\n",
    "    for i in range(1, len(input_list)):     \n",
    "        if input_list[i] > input_list[i-1]:\n",
    "            break\n",
    "        default_index = i+1        \n",
    "    return input_list[default_index]"
   ]
  },
  {
   "cell_type": "code",
   "execution_count": 108,
   "metadata": {},
   "outputs": [
    {
     "name": "stdout",
     "output_type": "stream",
     "text": [
      "Sorted List [-5, -5, -5, -5, -1, -1, -1, -1, 0, 1, 2, 2, 2, 2, 3, 4, 5, 5, 6, 8]\n",
      "Second Smallest Element = -1\n"
     ]
    }
   ],
   "source": [
    "test_list = [3,4,6,8,5,2,2,5,2,2,-1,-1,-1,-1,-5,-5,-5,-5,1,0]\n",
    "print(\"Second Smallest Element =\", str(secondSmallestElement(test_list)))"
   ]
  },
  {
   "cell_type": "markdown",
   "metadata": {},
   "source": [
    "b. Implement a python routine that returns the first local minimum (left and right neighbor exist and are both larger than the item) from a list"
   ]
  },
  {
   "cell_type": "code",
   "execution_count": 110,
   "metadata": {},
   "outputs": [],
   "source": [
    "def findLocalMinumum(input_list):\n",
    "    local_min_index = 0\n",
    "    for i in range(0, len(input_list)):\n",
    "        if input_list[i] < input_list[i+1]:\n",
    "            local_min_index = i\n",
    "            break\n",
    "    return input_list[local_min_index]\n",
    "            "
   ]
  },
  {
   "cell_type": "code",
   "execution_count": 119,
   "metadata": {},
   "outputs": [
    {
     "name": "stdout",
     "output_type": "stream",
     "text": [
      "First Local Minimum = 2\n"
     ]
    },
    {
     "data": {
      "image/png": "[encoded data removed]",
      "text/plain": [
       "<Figure size 432x288 with 1 Axes>"
      ]
     },
     "metadata": {},
     "output_type": "display_data"
    }
   ],
   "source": [
    "%matplotlib inline\n",
    "import numpy as np\n",
    "import matplotlib.pyplot as plt\n",
    "fig = plt.figure()\n",
    "ax = plt.axes()\n",
    "\n",
    "\n",
    "test_list = [10,9,8,6,3,2,2,5,10,15,20,19,18,17,16,10,5,4,3,0,5,10,15,17,20,21,22,25,27,30,31,32,33,40]\n",
    "print(\"First Local Minimum =\", str(findLocalMinumum(test_list)))\n",
    "\n",
    "x = np.linspace(0, len(test_list), len(test_list))\n",
    "y = np.array(test_list)\n",
    "ax.plot(x, y);\n"
   ]
  },
  {
   "cell_type": "code",
   "execution_count": null,
   "metadata": {},
   "outputs": [],
   "source": []
  }
 ],
 "metadata": {
  "kernelspec": {
   "display_name": "Python 3",
   "language": "python",
   "name": "python3"
  },
  "language_info": {
   "codemirror_mode": {
    "name": "ipython",
    "version": 3
   },
   "file_extension": ".py",
   "mimetype": "text/x-python",
   "name": "python",
   "nbconvert_exporter": "python",
   "pygments_lexer": "ipython3",
   "version": "3.6.5"
  }
 },
 "nbformat": 4,
 "nbformat_minor": 2
}
